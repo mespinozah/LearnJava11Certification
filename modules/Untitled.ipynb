{
 "cells": [
  {
   "cell_type": "code",
   "execution_count": 3,
   "metadata": {},
   "outputs": [
    {
     "name": "stdout",
     "output_type": "stream",
     "text": [
      "else\n",
      "verdadero 2\n"
     ]
    }
   ],
   "source": [
    "boolean a=true;\n",
    "boolean b=false;\n",
    "if (a=b) \n",
    "    System.out.println(\"verdadero 1\");\n",
    "else\n",
    "    System.out.println(\"else\");\n",
    "if(a==b)\n",
    "    System.out.println(\"verdadero 2\");"
   ]
  },
  {
   "cell_type": "code",
   "execution_count": 15,
   "metadata": {},
   "outputs": [
    {
     "name": "stdout",
     "output_type": "stream",
     "text": [
      "Matias QL\n"
     ]
    }
   ],
   "source": [
    "static abstract class Paso{\n",
    "    private static String id=\"Hola\";\n",
    "    public static String getId(){\n",
    "        return id;\n",
    "    }\n",
    "    \n",
    "    static {\n",
    "        id = \"Matias QL\";\n",
    "    }\n",
    "}\n",
    "\n",
    "System.out.println(Paso.getId());\n",
    "\n",
    "//Paso paso1 = new Paso();\n",
    "//System.out.println(paso1.getId());"
   ]
  },
  {
   "cell_type": "code",
   "execution_count": 21,
   "metadata": {},
   "outputs": [
    {
     "name": "stdout",
     "output_type": "stream",
     "text": [
      "1\n",
      "true\n"
     ]
    }
   ],
   "source": [
    "List strList = new ArrayList<>();\n",
    "\n",
    "//add at last\n",
    "strList.add(0, \"0\");\n",
    "\n",
    "//add at specified index\n",
    "strList.add(1, \"1\");\n",
    "\n",
    "//replace\n",
    "System.out.println(strList.set(1, \"2\"));\n",
    "\n",
    "//remove\n",
    "System.out.println(strList.remove(\"2\"));"
   ]
  },
  {
   "cell_type": "code",
   "execution_count": 23,
   "metadata": {},
   "outputs": [],
   "source": [
    "public interface A{}\n",
    "public interface B{}\n",
    "public interface C extends A,B {}"
   ]
  },
  {
   "cell_type": "code",
   "execution_count": 42,
   "metadata": {},
   "outputs": [],
   "source": [
    "import java.sql.*;\n",
    "import java.io.*;\n",
    "try{\n",
    "    \n",
    "    if(false)\n",
    "    throw new IOException(\"Chupalo piñera qlo!!!!\");\n",
    "    throw new SQLException(\"Chupalo piñera qlo con SQL\");\n",
    "}\n",
    "catch(Exception ex){\n",
    "\n",
    "}\n",
    "catch(IOException | SQLException ex){\n",
    "    System.out.println(ex.getClass());\n",
    "    if(ex instanceof IOException){\n",
    "    \n",
    "    }\n",
    "}"
   ]
  },
  {
   "cell_type": "code",
   "execution_count": 4,
   "metadata": {},
   "outputs": [
    {
     "name": "stdout",
     "output_type": "stream",
     "text": [
      "d: 0.0\n"
     ]
    }
   ],
   "source": [
    "double a = 2.2;\n",
    "double b = 1.0;\n",
    "double d = a%a;\n",
    "System.out.println(\"d: \" + d);"
   ]
  },
  {
   "cell_type": "code",
   "execution_count": 19,
   "metadata": {},
   "outputs": [
    {
     "name": "stdout",
     "output_type": "stream",
     "text": [
      "0.0 \u0000 false"
     ]
    }
   ],
   "source": [
    "public class TestClass{\n",
    "\n",
    "   static char ch;\n",
    "   static float f;\n",
    "   static boolean bool;\n",
    "\n",
    "   public static void main(String[] args){\n",
    "      System.out.print(f);\n",
    "      System.out.print(\" \");\n",
    "      System.out.print(ch);\n",
    "      System.out.print(\" \");\n",
    "      System.out.print(bool);\n",
    "   }\n",
    "}\n",
    "String[] args = {\"dasda\"};\n",
    "TestClass.main(args);"
   ]
  },
  {
   "cell_type": "code",
   "execution_count": 8,
   "metadata": {},
   "outputs": [
    {
     "name": "stdout",
     "output_type": "stream",
     "text": [
      "0 2 4 6 8 10 12 14 \n"
     ]
    }
   ],
   "source": [
    "public class DataStructure {\n",
    "    \n",
    "    // Create an array\n",
    "    private final static int SIZE = 15;\n",
    "    private int[] arrayOfInts = new int[SIZE];\n",
    "    \n",
    "    public DataStructure() {\n",
    "        // fill the array with ascending integer values\n",
    "        for (int i = 0; i < SIZE; i++) {\n",
    "            arrayOfInts[i] = i;\n",
    "        }\n",
    "    }\n",
    "    \n",
    "    public void printEven() {\n",
    "        \n",
    "        // Print out values of even indices of the array\n",
    "        DataStructureIterator iterator = this.new EvenIterator();\n",
    "        while (iterator.hasNext()) {\n",
    "            System.out.print(iterator.next() + \" \");\n",
    "        }\n",
    "        System.out.println();\n",
    "    }\n",
    "    \n",
    "    interface DataStructureIterator extends java.util.Iterator<Integer> { } \n",
    "\n",
    "    // Inner class implements the DataStructureIterator interface,\n",
    "    // which extends the Iterator<Integer> interface\n",
    "    \n",
    "    private class EvenIterator implements DataStructureIterator {\n",
    "        \n",
    "        // Start stepping through the array from the beginning\n",
    "        private int nextIndex = 0;\n",
    "        \n",
    "        public boolean hasNext() {\n",
    "            \n",
    "            // Check if the current element is the last in the array\n",
    "            return (nextIndex <= SIZE - 1);\n",
    "        }        \n",
    "        \n",
    "        public Integer next() {\n",
    "            \n",
    "            // Record a value of an even index of the array\n",
    "            Integer retValue = Integer.valueOf(arrayOfInts[nextIndex]);\n",
    "            \n",
    "            // Get the next even element\n",
    "            nextIndex += 2;\n",
    "            return retValue;\n",
    "        }\n",
    "    }\n",
    "    \n",
    "    public static void main(String s[]) {\n",
    "        \n",
    "        // Fill the array with integer values and print out only\n",
    "        // values of even indices\n",
    "        DataStructure ds = new DataStructure();\n",
    "        ds.printEven();\n",
    "    }\n",
    "}\n",
    "\n",
    "DataStructure.main(new String[] {});"
   ]
  },
  {
   "cell_type": "code",
   "execution_count": null,
   "metadata": {},
   "outputs": [],
   "source": []
  }
 ],
 "metadata": {
  "kernelspec": {
   "display_name": "Java",
   "language": "java",
   "name": "java"
  },
  "language_info": {
   "codemirror_mode": "java",
   "file_extension": ".jshell",
   "mimetype": "text/x-java-source",
   "name": "Java",
   "pygments_lexer": "java",
   "version": "11.0.4+11-LTS"
  }
 },
 "nbformat": 4,
 "nbformat_minor": 2
}
