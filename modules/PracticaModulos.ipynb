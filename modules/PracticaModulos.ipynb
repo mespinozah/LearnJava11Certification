{
 "cells": [
  {
   "cell_type": "code",
   "execution_count": 70,
   "metadata": {},
   "outputs": [
    {
     "name": "stdout",
     "output_type": "stream",
     "text": [
      "/home/jovyan\r\n"
     ]
    }
   ],
   "source": [
    "!pwd"
   ]
  },
  {
   "cell_type": "code",
   "execution_count": 71,
   "metadata": {},
   "outputs": [],
   "source": [
    "!mkdir -p test/src && mkdir -p test/classes && mkdir -p test/jets-classes&& mkdir -p test/cars-classes"
   ]
  },
  {
   "cell_type": "code",
   "execution_count": 72,
   "metadata": {},
   "outputs": [],
   "source": [
    "!mkdir -p test/src/com/acme/engines/jet\n",
    "!mkdir -p test/src/com/acme/engines/diesel\n",
    "!mkdir -p test/src/com/acme/engines/gas\n",
    "!mkdir -p test/src/com/acme/aircraft/midsize\n",
    "!mkdir -p test/src/com/acme/aircraft/helicopters\n",
    "!mkdir -p test/src/com/acme/cars/suv"
   ]
  },
  {
   "cell_type": "code",
   "execution_count": 80,
   "metadata": {},
   "outputs": [],
   "source": [
    "rm -Rf mods/*"
   ]
  },
  {
   "cell_type": "code",
   "execution_count": 94,
   "metadata": {},
   "outputs": [
    {
     "name": "stdout",
     "output_type": "stream",
     "text": [
      "Overwriting test/src/com/acme/engines/jet/module-info.java\n"
     ]
    }
   ],
   "source": [
    "%%writefile test/src/com/acme/engines/jet/module-info.java\n",
    "module acme.engines.jet {\n",
    "    exports com.acme.engines.jet to acme.aircraft.midsize;\n",
    "}"
   ]
  },
  {
   "cell_type": "code",
   "execution_count": 95,
   "metadata": {},
   "outputs": [
    {
     "name": "stdout",
     "output_type": "stream",
     "text": [
      "Overwriting test/src/com/acme/engines/jet/TurboProp.java\n"
     ]
    }
   ],
   "source": [
    "%%writefile test/src/com/acme/engines/jet/TurboProp.java\n",
    "package com.acme.engines.jet;\n",
    "\n",
    "public interface TurboProp{\n",
    "    \n",
    "}"
   ]
  },
  {
   "cell_type": "code",
   "execution_count": 96,
   "metadata": {},
   "outputs": [
    {
     "name": "stdout",
     "output_type": "stream",
     "text": [
      "src/com/acme/engines/jet/module-info.java:2: warning: [module] module not found: acme.aircraft.midsize\n",
      "    exports com.acme.engines.jet to acme.aircraft.midsize;\n",
      "                                                 ^\n",
      "1 warning\n",
      "added manifest\n",
      "added module-info: module-info.class\n",
      "adding: com/(in = 0) (out= 0)(stored 0%)\n",
      "adding: com/acme/(in = 0) (out= 0)(stored 0%)\n",
      "adding: com/acme/engines/(in = 0) (out= 0)(stored 0%)\n",
      "adding: com/acme/engines/jet/(in = 0) (out= 0)(stored 0%)\n",
      "adding: com/acme/engines/jet/TurboProp.class(in = 120) (out= 106)(deflated 11%)\n"
     ]
    }
   ],
   "source": [
    "#Recompiling and repackaging\n",
    "!cd test && javac -p mods -d classes/ src/com/acme/engines/jet/*.java src/com/acme/engines/jet/module-info.java\n",
    "!cd test && jar -cvf mods/acme.engines.jet.jar -C classes/ ."
   ]
  },
  {
   "cell_type": "code",
   "execution_count": 106,
   "metadata": {},
   "outputs": [
    {
     "name": "stdout",
     "output_type": "stream",
     "text": [
      "Overwriting test/src/com/acme/aircraft/midsize/module-info.java\n"
     ]
    }
   ],
   "source": [
    "%%writefile test/src/com/acme/aircraft/midsize/module-info.java\n",
    "module acme.aircraft.midsize {\n",
    "    exports com.acme.aircraft.midsize;\n",
    "    requires acme.engines.jet;\n",
    "}"
   ]
  },
  {
   "cell_type": "code",
   "execution_count": 107,
   "metadata": {},
   "outputs": [
    {
     "name": "stdout",
     "output_type": "stream",
     "text": [
      "Overwriting test/src/com/acme/aircraft/midsize/Boeing737.java\n"
     ]
    }
   ],
   "source": [
    "%%writefile test/src/com/acme/aircraft/midsize/Boeing737.java\n",
    "package com.acme.aircraft.midsize;\n",
    "import com.acme.engines.jet.*;\n",
    "\n",
    "public class Boeing737 implements TurboProp {\n",
    "    \n",
    "}"
   ]
  },
  {
   "cell_type": "code",
   "execution_count": 105,
   "metadata": {},
   "outputs": [
    {
     "name": "stdout",
     "output_type": "stream",
     "text": [
      "added manifest\n",
      "added module-info: module-info.class\n",
      "adding: com/(in = 0) (out= 0)(stored 0%)\n",
      "adding: com/acme/(in = 0) (out= 0)(stored 0%)\n",
      "adding: com/acme/aircraft/(in = 0) (out= 0)(stored 0%)\n",
      "adding: com/acme/aircraft/midsize/(in = 0) (out= 0)(stored 0%)\n",
      "adding: com/acme/aircraft/midsize/Boeing737.class(in = 256) (out= 214)(deflated 16%)\n",
      "adding: com/acme/engines/(in = 0) (out= 0)(stored 0%)\n",
      "adding: com/acme/engines/jet/(in = 0) (out= 0)(stored 0%)\n",
      "adding: com/acme/engines/jet/TurboProp.class(in = 120) (out= 106)(deflated 11%)\n"
     ]
    }
   ],
   "source": [
    "!cd test && javac -p mods -d jets-classes/ src/com/acme/aircraft/midsize/*.java src/com/acme/aircraft/midsize/module-info.java\n",
    "!cd test && jar -cvf mods/acme.aircraft.midsize.jar -C jets-classes/ ."
   ]
  },
  {
   "cell_type": "code",
   "execution_count": 91,
   "metadata": {},
   "outputs": [
    {
     "name": "stdout",
     "output_type": "stream",
     "text": [
      "Overwriting test/src/com/acme/cars/suv/module-info.java\n"
     ]
    }
   ],
   "source": [
    "%%writefile test/src/com/acme/cars/suv/module-info.java\n",
    "module acme.cars.suv {\n",
    "    exports com.acme.cars.suv;\n",
    "    requires acme.engines.jet;\n",
    "}"
   ]
  },
  {
   "cell_type": "code",
   "execution_count": 92,
   "metadata": {},
   "outputs": [
    {
     "name": "stdout",
     "output_type": "stream",
     "text": [
      "Overwriting test/src/com/acme/cars/suv/Honda.java\n"
     ]
    }
   ],
   "source": [
    "%%writefile test/src/com/acme/cars/suv/Honda.java\n",
    "package com.acme.cars.suv;\n",
    "import com.acme.engines.jet.*;\n",
    "\n",
    "public class Honda implements TurboProp {\n",
    "    \n",
    "}"
   ]
  },
  {
   "cell_type": "code",
   "execution_count": 93,
   "metadata": {},
   "outputs": [
    {
     "name": "stdout",
     "output_type": "stream",
     "text": [
      "src/com/acme/cars/suv/Honda.java:2: error: package com.acme.engines.jet is not visible\n",
      "import com.acme.engines.jet.*;\n",
      "                       ^\n",
      "  (package com.acme.engines.jet is declared in module acme.engines.jet, which does not export it to module acme.cars.suv)\n",
      "1 error\n",
      "added manifest\n",
      "added module-info: module-info.class\n",
      "adding: com/(in = 0) (out= 0)(stored 0%)\n",
      "adding: com/acme/(in = 0) (out= 0)(stored 0%)\n",
      "adding: com/acme/cars/(in = 0) (out= 0)(stored 0%)\n",
      "adding: com/acme/cars/suv/(in = 0) (out= 0)(stored 0%)\n",
      "adding: com/acme/cars/suv/Honda.class(in = 240) (out= 197)(deflated 17%)\n"
     ]
    }
   ],
   "source": [
    "!cd test && javac -p mods -d cars-classes/ src/com/acme/cars/suv/*.java src/com/acme/cars/suv/module-info.java\n",
    "!cd test && jar -cvf mods/acme.cars.suv.jar -C cars-classes/ ."
   ]
  },
  {
   "cell_type": "code",
   "execution_count": null,
   "metadata": {},
   "outputs": [],
   "source": []
  }
 ],
 "metadata": {
  "kernelspec": {
   "display_name": "Python 3",
   "language": "python",
   "name": "python3"
  },
  "language_info": {
   "codemirror_mode": {
    "name": "ipython",
    "version": 3
   },
   "file_extension": ".py",
   "mimetype": "text/x-python",
   "name": "python",
   "nbconvert_exporter": "python",
   "pygments_lexer": "ipython3",
   "version": "3.7.3"
  }
 },
 "nbformat": 4,
 "nbformat_minor": 2
}
