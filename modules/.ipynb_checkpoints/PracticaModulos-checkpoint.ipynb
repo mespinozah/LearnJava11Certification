{
 "cells": [
  {
   "cell_type": "code",
   "execution_count": 1,
   "metadata": {},
   "outputs": [
    {
     "name": "stdout",
     "output_type": "stream",
     "text": [
      "/home/jovyan\r\n"
     ]
    }
   ],
   "source": [
    "!pwd"
   ]
  },
  {
   "cell_type": "code",
   "execution_count": 5,
   "metadata": {},
   "outputs": [],
   "source": [
    "!mkdir -p test/src && mkdir -p test/classes"
   ]
  },
  {
   "cell_type": "code",
   "execution_count": 6,
   "metadata": {},
   "outputs": [],
   "source": [
    "!mkdir -p test/src/com/acme/engines/jet\n",
    "!mkdir -p test/src/com/acme/engines/diesel\n",
    "!mkdir -p test/src/com/acme/engines/gas\n",
    "!mkdir -p test/src/com/acme/aircraft/midsize\n",
    "!mkdir -p test/src/com/acme/aircraft/helicopters\n",
    "!mkdir -p test/src/com/acme/cars/suv"
   ]
  },
  {
   "cell_type": "code",
   "execution_count": 13,
   "metadata": {},
   "outputs": [
    {
     "name": "stdout",
     "output_type": "stream",
     "text": [
      "Overwriting test/src/com/acme/engines/jet/module-info.java\n"
     ]
    }
   ],
   "source": [
    "%%writefile test/src/com/acme/engines/jet/module-info.java\n",
    "module acme.engines.jet {\n",
    "    exports com.acme.engines.jet;\n",
    "}"
   ]
  },
  {
   "cell_type": "code",
   "execution_count": 17,
   "metadata": {},
   "outputs": [
    {
     "name": "stdout",
     "output_type": "stream",
     "text": [
      "Overwriting test/src/com/acme/engines/jet/TurboProp.java\n"
     ]
    }
   ],
   "source": [
    "%%writefile test/src/com/acme/engines/jet/TurboProp.java\n",
    "package com.acme.engines.jet;\n",
    "\n",
    "public interface TurboProp{\n",
    "    \n",
    "}"
   ]
  },
  {
   "cell_type": "code",
   "execution_count": 21,
   "metadata": {},
   "outputs": [
    {
     "name": "stdout",
     "output_type": "stream",
     "text": [
      "added manifest\r\n",
      "added module-info: module-info.class\r\n",
      "adding: com/(in = 0) (out= 0)(stored 0%)\r\n",
      "adding: com/acme/(in = 0) (out= 0)(stored 0%)\r\n",
      "adding: com/acme/engines/(in = 0) (out= 0)(stored 0%)\r\n",
      "adding: com/acme/engines/jet/(in = 0) (out= 0)(stored 0%)\r\n",
      "adding: com/acme/engines/jet/TurboProp.class(in = 120) (out= 106)(deflated 11%)\r\n"
     ]
    }
   ],
   "source": [
    "#Recompiling and repackaging\n",
    "!cd test && javac -p mods -d classes/ src/com/acme/engines/jet/*.java src/com/acme/engines/jet/module-info.java\n",
    "!cd test && jar -cvf mods/acme.engines.jet.jar -C classes/ ."
   ]
  },
  {
   "cell_type": "code",
   "execution_count": null,
   "metadata": {},
   "outputs": [],
   "source": []
  }
 ],
 "metadata": {
  "kernelspec": {
   "display_name": "Python 3",
   "language": "python",
   "name": "python3"
  },
  "language_info": {
   "codemirror_mode": {
    "name": "ipython",
    "version": 3
   },
   "file_extension": ".py",
   "mimetype": "text/x-python",
   "name": "python",
   "nbconvert_exporter": "python",
   "pygments_lexer": "ipython3",
   "version": "3.7.3"
  }
 },
 "nbformat": 4,
 "nbformat_minor": 2
}
