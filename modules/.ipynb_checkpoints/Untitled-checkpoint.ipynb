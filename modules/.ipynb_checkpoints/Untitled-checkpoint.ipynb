{
 "cells": [
  {
   "cell_type": "code",
   "execution_count": 3,
   "metadata": {},
   "outputs": [
    {
     "name": "stdout",
     "output_type": "stream",
     "text": [
      "else\n",
      "verdadero 2\n"
     ]
    }
   ],
   "source": [
    "boolean a=true;\n",
    "boolean b=false;\n",
    "if (a=b) \n",
    "    System.out.println(\"verdadero 1\");\n",
    "else\n",
    "    System.out.println(\"else\");\n",
    "if(a==b)\n",
    "    System.out.println(\"verdadero 2\");"
   ]
  },
  {
   "cell_type": "code",
   "execution_count": 15,
   "metadata": {},
   "outputs": [
    {
     "name": "stdout",
     "output_type": "stream",
     "text": [
      "Matias QL\n"
     ]
    }
   ],
   "source": [
    "static abstract class Paso{\n",
    "    private static String id=\"Hola\";\n",
    "    public static String getId(){\n",
    "        return id;\n",
    "    }\n",
    "    \n",
    "    static {\n",
    "        id = \"Matias QL\";\n",
    "    }\n",
    "}\n",
    "\n",
    "System.out.println(Paso.getId());\n",
    "\n",
    "//Paso paso1 = new Paso();\n",
    "//System.out.println(paso1.getId());"
   ]
  },
  {
   "cell_type": "code",
   "execution_count": 21,
   "metadata": {},
   "outputs": [
    {
     "name": "stdout",
     "output_type": "stream",
     "text": [
      "1\n",
      "true\n"
     ]
    }
   ],
   "source": [
    "List strList = new ArrayList<>();\n",
    "\n",
    "//add at last\n",
    "strList.add(0, \"0\");\n",
    "\n",
    "//add at specified index\n",
    "strList.add(1, \"1\");\n",
    "\n",
    "//replace\n",
    "System.out.println(strList.set(1, \"2\"));\n",
    "\n",
    "//remove\n",
    "System.out.println(strList.remove(\"2\"));"
   ]
  },
  {
   "cell_type": "code",
   "execution_count": 23,
   "metadata": {},
   "outputs": [],
   "source": [
    "public interface A{}\n",
    "public interface B{}\n",
    "public interface C extends A,B {}"
   ]
  },
  {
   "cell_type": "code",
   "execution_count": 42,
   "metadata": {},
   "outputs": [],
   "source": [
    "import java.sql.*;\n",
    "import java.io.*;\n",
    "try{\n",
    "    \n",
    "    if(false)\n",
    "    throw new IOException(\"Chupalo piñera qlo!!!!\");\n",
    "    throw new SQLException(\"Chupalo piñera qlo con SQL\");\n",
    "}\n",
    "catch(Exception ex){\n",
    "\n",
    "}\n",
    "catch(IOException | SQLException ex){\n",
    "    System.out.println(ex.getClass());\n",
    "    if(ex instanceof IOException){\n",
    "    \n",
    "    }\n",
    "}"
   ]
  },
  {
   "cell_type": "code",
   "execution_count": null,
   "metadata": {},
   "outputs": [],
   "source": []
  }
 ],
 "metadata": {
  "kernelspec": {
   "display_name": "Java",
   "language": "java",
   "name": "java"
  },
  "language_info": {
   "codemirror_mode": "java",
   "file_extension": ".jshell",
   "mimetype": "text/x-java-source",
   "name": "Java",
   "pygments_lexer": "java",
   "version": "11.0.4+11-LTS"
  }
 },
 "nbformat": 4,
 "nbformat_minor": 2
}
