{
 "cells": [
  {
   "cell_type": "code",
   "execution_count": 86,
   "metadata": {},
   "outputs": [
    {
     "name": "stdout",
     "output_type": "stream",
     "text": [
      "/home/jovyan\r\n"
     ]
    }
   ],
   "source": [
    "!pwd"
   ]
  },
  {
   "cell_type": "code",
   "execution_count": 88,
   "metadata": {},
   "outputs": [
    {
     "name": "stdout",
     "output_type": "stream",
     "text": [
      "Overwriting feeding/module-info.java\n"
     ]
    }
   ],
   "source": [
    "%%writefile feeding/module-info.java\n",
    "module zoo.animal.feeding {\n",
    "}"
   ]
  },
  {
   "cell_type": "code",
   "execution_count": 89,
   "metadata": {},
   "outputs": [],
   "source": [
    "#Compiling\n",
    "!javac --module-path mods -d feeding feeding/zoo/animal/feeding/*.java feeding/module-info.java"
   ]
  },
  {
   "cell_type": "markdown",
   "metadata": {},
   "source": [
    "<h1>Anatomia de un modulo</h1>\n",
    "<img src='c11f005.png'/>"
   ]
  },
  {
   "cell_type": "code",
   "execution_count": 90,
   "metadata": {},
   "outputs": [
    {
     "name": "stdout",
     "output_type": "stream",
     "text": [
      "All fed!\r\n"
     ]
    }
   ],
   "source": [
    "#Running\n",
    "!java --module-path feeding --module zoo.animal.feeding/zoo.animal.feeding.Task"
   ]
  },
  {
   "cell_type": "code",
   "execution_count": 91,
   "metadata": {},
   "outputs": [
    {
     "name": "stdout",
     "output_type": "stream",
     "text": [
      "All fed!\r\n"
     ]
    }
   ],
   "source": [
    "#Running (Short Form)\n",
    "!java -p feeding -m zoo.animal.feeding/zoo.animal.feeding.Task"
   ]
  },
  {
   "cell_type": "code",
   "execution_count": 92,
   "metadata": {},
   "outputs": [
    {
     "name": "stdout",
     "output_type": "stream",
     "text": [
      "added manifest\n",
      "added module-info: module-info.class\n",
      "adding: module-info.java(in = 34) (out= 36)(deflated -5%)\n",
      "adding: zoo/(in = 0) (out= 0)(stored 0%)\n",
      "adding: zoo/animal/(in = 0) (out= 0)(stored 0%)\n",
      "adding: zoo/animal/feeding/(in = 0) (out= 0)(stored 0%)\n",
      "adding: zoo/animal/feeding/Task.class(in = 429) (out= 301)(deflated 29%)\n",
      "adding: zoo/animal/feeding/Task.java(in = 143) (out= 117)(deflated 18%)\n"
     ]
    }
   ],
   "source": [
    "#Packaging\n",
    "!jar -cvf mods/zoo.animal.feeding.jar -C feeding/ ."
   ]
  },
  {
   "attachments": {},
   "cell_type": "markdown",
   "metadata": {},
   "source": [
    "<h1>Estructura del modulo y sus paquetes</h1>\n",
    "<img src='c11f006.png' width=\"30%\" height=\"30%\"/>"
   ]
  },
  {
   "cell_type": "markdown",
   "metadata": {},
   "source": [
    "The exports keyword is used to indicate that a module intends for those packages to be used by Java code outside the module. As you might expect, without an exports keyword, the module is only available to be run from the command line on its own. In the following example, we export one package:"
   ]
  },
  {
   "cell_type": "code",
   "execution_count": 93,
   "metadata": {},
   "outputs": [
    {
     "name": "stdout",
     "output_type": "stream",
     "text": [
      "Overwriting feeding/module-info.java\n"
     ]
    }
   ],
   "source": [
    "%%writefile feeding/module-info.java\n",
    "module zoo.animal.feeding {\n",
    "    exports zoo.animal.feeding;\n",
    "}"
   ]
  },
  {
   "cell_type": "code",
   "execution_count": 94,
   "metadata": {},
   "outputs": [
    {
     "name": "stdout",
     "output_type": "stream",
     "text": [
      "added manifest\n",
      "added module-info: module-info.class\n",
      "adding: module-info.java(in = 62) (out= 45)(deflated 27%)\n",
      "adding: zoo/(in = 0) (out= 0)(stored 0%)\n",
      "adding: zoo/animal/(in = 0) (out= 0)(stored 0%)\n",
      "adding: zoo/animal/feeding/(in = 0) (out= 0)(stored 0%)\n",
      "adding: zoo/animal/feeding/Task.class(in = 429) (out= 301)(deflated 29%)\n",
      "adding: zoo/animal/feeding/Task.java(in = 143) (out= 117)(deflated 18%)\n"
     ]
    }
   ],
   "source": [
    "#Recompiling and repackaging\n",
    "!javac -p mods -d feeding feeding/zoo/animal/feeding/*.java feeding/module-info.java\n",
    "!jar -cvf mods/zoo.animal.feeding.jar -C feeding/ ."
   ]
  },
  {
   "cell_type": "markdown",
   "metadata": {},
   "source": [
    "Next, let’s create the **zoo.animal.care** module. This time, we are going to have **two** packages. \n",
    "The **zoo.animal.care.medical** package will have the classes and methods that are intended for use by other modules. \n",
    "The **zoo.animal.care.details** package is only going to be used by this module. It will not be exported from the module.\n",
    "Think of it as healthcare privacy for the animals.\n",
    "<img src='c11f008.png' width=\"30%\" height=\"30%\"/>"
   ]
  },
  {
   "cell_type": "code",
   "execution_count": 95,
   "metadata": {},
   "outputs": [
    {
     "name": "stdout",
     "output_type": "stream",
     "text": [
      "Overwriting care/module-info.java\n"
     ]
    }
   ],
   "source": [
    "%%writefile care/module-info.java\n",
    "module zoo.animal.care {\n",
    "   exports zoo.animal.care.medical;\n",
    "   requires zoo.animal.feeding;\n",
    "}"
   ]
  },
  {
   "cell_type": "markdown",
   "metadata": {},
   "source": [
    "#This time the module-info.java file specifies three things.\n",
    "\n",
    "* Line 1 specifies the name of the module. \n",
    "* Line 2 lists the package we are exporting so it can be used by other modules. So far, this is similar to the zoo.animal.feeding module.\n",
    "* Line 3, we see a new keyword. The **requires** statement specifies that a module is needed. The zoo.animal.care module **depends on** the zoo.animal.feeding module.\n",
    "\n",
    "<img src='c11f009.png' width=\"30%\" height=\"30%\"/>"
   ]
  },
  {
   "cell_type": "code",
   "execution_count": 96,
   "metadata": {},
   "outputs": [],
   "source": [
    "#compiling care module\n",
    "!javac -p mods -d care care/zoo/animal/care/details/*.java care/zoo/animal/care/medical/*.java care/module-info.java\n",
    "#Note that order matters when compiling a module. A package must have at least one class in it in order to be exported"
   ]
  },
  {
   "cell_type": "code",
   "execution_count": 97,
   "metadata": {},
   "outputs": [
    {
     "name": "stdout",
     "output_type": "stream",
     "text": [
      "added manifest\n",
      "added module-info: module-info.class\n",
      "adding: module-info.java(in = 95) (out= 69)(deflated 27%)\n",
      "adding: zoo/(in = 0) (out= 0)(stored 0%)\n",
      "adding: zoo/animal/(in = 0) (out= 0)(stored 0%)\n",
      "adding: zoo/animal/care/(in = 0) (out= 0)(stored 0%)\n",
      "adding: zoo/animal/care/details/(in = 0) (out= 0)(stored 0%)\n",
      "adding: zoo/animal/care/details/HippoBirthday.class(in = 267) (out= 213)(deflated 20%)\n",
      "adding: zoo/animal/care/details/HippoBirthday.java(in = 118) (out= 101)(deflated 14%)\n",
      "adding: zoo/animal/care/medical/(in = 0) (out= 0)(stored 0%)\n",
      "adding: zoo/animal/care/medical/Diet.class(in = 206) (out= 175)(deflated 15%)\n",
      "adding: zoo/animal/care/medical/Diet.java(in = 57) (out= 59)(deflated -3%)\n"
     ]
    }
   ],
   "source": [
    "#create the module JAR\n",
    "!jar -cvf mods/zoo.animal.care.jar -C care/ ."
   ]
  },
  {
   "cell_type": "markdown",
   "metadata": {},
   "source": [
    "#CREATING THE TALKS MODULE\n",
    "\n",
    "So far, we’ve used only one exports and requires statement in a module. Now you’ll learn how to handle **exporting multiple** packages or **requiring multiple** modules. Observe that the **zoo.animal.talks module** depends on two modules: **zoo.animal.feeding** and **zoo.animal.care**. \n",
    "\n",
    "This means that there must be two requires statements in the module-info.java file.\n",
    "\n",
    "<img src='c11f010.png' width=\"30%\" height=\"30%\"/>"
   ]
  },
  {
   "cell_type": "markdown",
   "metadata": {},
   "source": [
    "We are going to export all three packages in this module.\n",
    "\n",
    "<img src='c11f011.png' width=\"30%\" height=\"30%\"/>\n",
    "\n",
    "First let’s look at the module-info.java file for zoo.animal.talks:\n",
    "\n",
    "Line 1 shows the module name. Lines 2–4 allow other modules to reference all three packages. Lines 6–7 specify the two modules that this module depends on."
   ]
  },
  {
   "cell_type": "code",
   "execution_count": 98,
   "metadata": {},
   "outputs": [
    {
     "name": "stdout",
     "output_type": "stream",
     "text": [
      "Overwriting talks/module-info.java\n"
     ]
    }
   ],
   "source": [
    "%%writefile talks/module-info.java\n",
    "module zoo.animal.talks {\n",
    "   exports zoo.animal.talks.content;\n",
    "   exports zoo.animal.talks.media;\n",
    "   exports zoo.animal.talks.schedule;\n",
    "\n",
    "   requires zoo.animal.feeding;\n",
    "   requires zoo.animal.care;\n",
    "}"
   ]
  },
  {
   "cell_type": "code",
   "execution_count": 99,
   "metadata": {},
   "outputs": [
    {
     "name": "stdout",
     "output_type": "stream",
     "text": [
      "added manifest\n",
      "added module-info: module-info.class\n",
      "adding: module-info.java(in = 200) (out= 91)(deflated 54%)\n",
      "adding: zoo/(in = 0) (out= 0)(stored 0%)\n",
      "adding: zoo/animal/(in = 0) (out= 0)(stored 0%)\n",
      "adding: zoo/animal/talks/(in = 0) (out= 0)(stored 0%)\n",
      "adding: zoo/animal/talks/content/(in = 0) (out= 0)(stored 0%)\n",
      "adding: zoo/animal/talks/content/ElephantScript.class(in = 227) (out= 186)(deflated 18%)\n",
      "adding: zoo/animal/talks/content/ElephantScript.java(in = 67) (out= 68)(deflated -1%)\n",
      "adding: zoo/animal/talks/content/SeaLionScript.class(in = 225) (out= 185)(deflated 17%)\n",
      "adding: zoo/animal/talks/content/SeaLionScript.java(in = 66) (out= 68)(deflated -3%)\n",
      "adding: zoo/animal/talks/media/(in = 0) (out= 0)(stored 0%)\n",
      "adding: zoo/animal/talks/media/Announcement.class(in = 464) (out= 318)(deflated 31%)\n",
      "adding: zoo/animal/talks/media/Announcement.java(in = 170) (out= 134)(deflated 21%)\n",
      "adding: zoo/animal/talks/media/Signage.class(in = 211) (out= 178)(deflated 15%)\n",
      "adding: zoo/animal/talks/media/Signage.java(in = 58) (out= 58)(deflated 0%)\n",
      "adding: zoo/animal/talks/schedule/(in = 0) (out= 0)(stored 0%)\n",
      "adding: zoo/animal/talks/schedule/Weekday.class(in = 214) (out= 181)(deflated 15%)\n",
      "adding: zoo/animal/talks/schedule/Weekday.java(in = 61) (out= 63)(deflated -3%)\n",
      "adding: zoo/animal/talks/schedule/Weekend.class(in = 214) (out= 181)(deflated 15%)\n",
      "adding: zoo/animal/talks/schedule/Weekend.java(in = 61) (out= 63)(deflated -3%)\n"
     ]
    }
   ],
   "source": [
    "#compile and build the module talks\n",
    "!javac -p mods -d talks talks/zoo/animal/talks/content/*.java talks/zoo/animal/talks/media/*.java talks/zoo/animal/talks/schedule/*.java talks/module-info.java\n",
    "!jar -cvf mods/zoo.animal.talks.jar -C talks/ ."
   ]
  },
  {
   "cell_type": "markdown",
   "metadata": {},
   "source": [
    "Our final module is zoo.staff. Figure 11.12 shows there is only one package inside. We will not be exposing this package outside the module:\n",
    "\n",
    "<img src='c11f012.png' width=\"30%\" height=\"30%\"/>"
   ]
  },
  {
   "cell_type": "code",
   "execution_count": 100,
   "metadata": {},
   "outputs": [
    {
     "name": "stdout",
     "output_type": "stream",
     "text": [
      "Overwriting staff/module-info.java\n"
     ]
    }
   ],
   "source": [
    "%%writefile staff/module-info.java\n",
    "module zoo.staff {\n",
    "   requires zoo.animal.feeding;\n",
    "   requires zoo.animal.care;\n",
    "   requires zoo.animal.talks;\n",
    "}"
   ]
  },
  {
   "cell_type": "markdown",
   "metadata": {},
   "source": [
    "These represent the three modules that are required. Since no packages are to be exposed from zoo.staff, there are no exports statements:\n",
    "<img src='c11f013.png' width=\"30%\" height=\"30%\"/>"
   ]
  },
  {
   "cell_type": "code",
   "execution_count": 101,
   "metadata": {},
   "outputs": [
    {
     "name": "stdout",
     "output_type": "stream",
     "text": [
      "added manifest\n",
      "added module-info: module-info.class\n",
      "adding: module-info.java(in = 112) (out= 66)(deflated 41%)\n",
      "adding: zoo/(in = 0) (out= 0)(stored 0%)\n",
      "adding: zoo/staff/(in = 0) (out= 0)(stored 0%)\n",
      "adding: zoo/staff/Jobs.class(in = 192) (out= 165)(deflated 14%)\n",
      "adding: zoo/staff/Jobs.java(in = 42) (out= 44)(deflated -4%)\n"
     ]
    }
   ],
   "source": [
    "#compile and build the module:\n",
    "!javac -p mods -d staff staff/zoo/staff/*.java staff/module-info.java\n",
    " \n",
    "!jar -cvf mods/zoo.staff.jar -C staff/ ."
   ]
  },
  {
   "cell_type": "markdown",
   "metadata": {},
   "source": [
    "<h1>EXPORTS</h1>\n",
    "\n",
    "We’ve already seen how exports packageName exports a package to other modules. It’s also possible to export a package to a specific module. Suppose the zoo decides that only staff members should have access to the talks. We could update the module declaration as follows:"
   ]
  },
  {
   "cell_type": "code",
   "execution_count": 102,
   "metadata": {},
   "outputs": [
    {
     "name": "stdout",
     "output_type": "stream",
     "text": [
      "Overwriting talks/module-info.java\n"
     ]
    }
   ],
   "source": [
    "%%writefile talks/module-info.java\n",
    "module zoo.animal.talks {\n",
    "   exports zoo.animal.talks.content to zoo.staff;\n",
    "   exports zoo.animal.talks.media;\n",
    "   exports zoo.animal.talks.schedule;\n",
    " \n",
    "   requires zoo.animal.feeding;\n",
    "   requires zoo.animal.care;\n",
    "}"
   ]
  },
  {
   "cell_type": "code",
   "execution_count": 103,
   "metadata": {},
   "outputs": [
    {
     "name": "stdout",
     "output_type": "stream",
     "text": [
      "added manifest\n",
      "added module-info: module-info.class\n",
      "adding: module-info.java(in = 214) (out= 98)(deflated 54%)\n",
      "adding: zoo/(in = 0) (out= 0)(stored 0%)\n",
      "adding: zoo/animal/(in = 0) (out= 0)(stored 0%)\n",
      "adding: zoo/animal/talks/(in = 0) (out= 0)(stored 0%)\n",
      "adding: zoo/animal/talks/content/(in = 0) (out= 0)(stored 0%)\n",
      "adding: zoo/animal/talks/content/ElephantScript.class(in = 227) (out= 186)(deflated 18%)\n",
      "adding: zoo/animal/talks/content/ElephantScript.java(in = 67) (out= 68)(deflated -1%)\n",
      "adding: zoo/animal/talks/content/SeaLionScript.class(in = 225) (out= 185)(deflated 17%)\n",
      "adding: zoo/animal/talks/content/SeaLionScript.java(in = 66) (out= 68)(deflated -3%)\n",
      "adding: zoo/animal/talks/media/(in = 0) (out= 0)(stored 0%)\n",
      "adding: zoo/animal/talks/media/Announcement.class(in = 464) (out= 318)(deflated 31%)\n",
      "adding: zoo/animal/talks/media/Announcement.java(in = 170) (out= 134)(deflated 21%)\n",
      "adding: zoo/animal/talks/media/Signage.class(in = 211) (out= 178)(deflated 15%)\n",
      "adding: zoo/animal/talks/media/Signage.java(in = 58) (out= 58)(deflated 0%)\n",
      "adding: zoo/animal/talks/schedule/(in = 0) (out= 0)(stored 0%)\n",
      "adding: zoo/animal/talks/schedule/Weekday.class(in = 214) (out= 181)(deflated 15%)\n",
      "adding: zoo/animal/talks/schedule/Weekday.java(in = 61) (out= 63)(deflated -3%)\n",
      "adding: zoo/animal/talks/schedule/Weekend.class(in = 214) (out= 181)(deflated 15%)\n",
      "adding: zoo/animal/talks/schedule/Weekend.java(in = 61) (out= 63)(deflated -3%)\n"
     ]
    }
   ],
   "source": [
    "#compile and build the talks module\n",
    "!javac -p mods -d talks talks/zoo/animal/talks/content/*.java talks/zoo/animal/talks/media/*.java talks/zoo/animal/talks/schedule/*.java talks/module-info.java\n",
    "!jar -cvf mods/zoo.animal.talks.jar -C talks/ ."
   ]
  },
  {
   "cell_type": "markdown",
   "metadata": {},
   "source": [
    "From the zoo.staff module, nothing has changed. However, **no other modules would be allowed to access that package.**\n",
    "\n",
    "You might have noticed that none of our other modules requires zoo.animal.talks in the first place. However, we don’t know what **other modules will exist in the future**. It is important to consider future use when designing modules. Since we want only the one module to have access, we only allow access for that module."
   ]
  },
  {
   "cell_type": "markdown",
   "metadata": {},
   "source": [
    "<b>The exports keyword essentially gives us more levels of access control. Table 11.3 lists the full access control options.</b>\n",
    "\n",
    "| Level | Within module code | Outside module code |\n",
    "| :---:  | :---:  | :---:  |\n",
    "| private | Available only within class | No access |\n",
    "| default (package-private) | Available only within package | No access |\n",
    "| protected | Available only within package or to subclasses | Accessible to subclasses only if package is exported |\n",
    "| public | Available to all classes | Accessible only if package is exported |"
   ]
  },
  {
   "cell_type": "markdown",
   "metadata": {},
   "source": [
    "<h1>REQUIRES TRANSITIVE</h1>\n",
    "\n",
    "As you saw earlier in this chapter, **requires moduleName** specifies that the **current module depends on moduleName**. There’s also a **requires transitive moduleName**, which means that **any module** that requires **this module** will also **depend on moduleName**."
   ]
  },
  {
   "cell_type": "markdown",
   "metadata": {},
   "source": [
    "Let’s look at an example. Figure shows the modules with dashed lines for the redundant relationships and solid lines for relationships specified in the module-info. This shows how the module relationships would look if we were to only use transitive dependencies.\n",
    "<img src='c11f014.png' width=\"30%\" height=\"30%\"/>\n",
    "For example, **zoo.animal.talks** depends on **zoo.animal.care**, which depends on **zoo.animal.feeding**. That means the **arrow between** **zoo.animal.talks** and **zoo.animal.feeding** **no longer appears** in Figure."
   ]
  },
  {
   "cell_type": "markdown",
   "metadata": {},
   "source": [
    "Now let’s look at the four module-info files. The first module remains unchanged. We are exporting one package to any packages that use the module.\n",
    "\n",
    "```java\n",
    "module zoo.animal.feeding {\n",
    "   exports zoo.animal.feeding;\n",
    "}\n",
    "```"
   ]
  },
  {
   "cell_type": "markdown",
   "metadata": {},
   "source": [
    "The **zoo.animal.care** module is the first opportunity to improve things. Rather than **forcing all remaining modules** to **explicitly** specify **zoo.animal.feeding**, the code uses requires transitive."
   ]
  },
  {
   "cell_type": "code",
   "execution_count": 104,
   "metadata": {},
   "outputs": [
    {
     "name": "stdout",
     "output_type": "stream",
     "text": [
      "Overwriting care/module-info.java\n"
     ]
    }
   ],
   "source": [
    "%%writefile care/module-info.java\n",
    "module zoo.animal.care {\n",
    "   exports zoo.animal.care.medical;\n",
    "   requires transitive zoo.animal.feeding;\n",
    "}"
   ]
  },
  {
   "cell_type": "code",
   "execution_count": 105,
   "metadata": {},
   "outputs": [
    {
     "name": "stdout",
     "output_type": "stream",
     "text": [
      "added manifest\n",
      "added module-info: module-info.class\n",
      "adding: module-info.java(in = 106) (out= 79)(deflated 25%)\n",
      "adding: zoo/(in = 0) (out= 0)(stored 0%)\n",
      "adding: zoo/animal/(in = 0) (out= 0)(stored 0%)\n",
      "adding: zoo/animal/care/(in = 0) (out= 0)(stored 0%)\n",
      "adding: zoo/animal/care/details/(in = 0) (out= 0)(stored 0%)\n",
      "adding: zoo/animal/care/details/HippoBirthday.class(in = 267) (out= 213)(deflated 20%)\n",
      "adding: zoo/animal/care/details/HippoBirthday.java(in = 118) (out= 101)(deflated 14%)\n",
      "adding: zoo/animal/care/medical/(in = 0) (out= 0)(stored 0%)\n",
      "adding: zoo/animal/care/medical/Diet.class(in = 206) (out= 175)(deflated 15%)\n",
      "adding: zoo/animal/care/medical/Diet.java(in = 57) (out= 59)(deflated -3%)\n"
     ]
    }
   ],
   "source": [
    "#compiling care module\n",
    "!javac -p mods -d care care/zoo/animal/care/details/*.java care/zoo/animal/care/medical/*.java care/module-info.java\n",
    "!jar -cvf mods/zoo.animal.care.jar -C care/ ."
   ]
  },
  {
   "cell_type": "markdown",
   "metadata": {},
   "source": [
    "In the **zoo.animal.talks** module, we make a similar change and **don’t force** other modules to specify **zoo.animal.care**. We also **no longer need** to specify zoo.animal.feeding, so that line is commented out."
   ]
  },
  {
   "cell_type": "code",
   "execution_count": 106,
   "metadata": {},
   "outputs": [
    {
     "name": "stdout",
     "output_type": "stream",
     "text": [
      "Overwriting talks/module-info.java\n"
     ]
    }
   ],
   "source": [
    "%%writefile talks/module-info.java\n",
    "module zoo.animal.talks {\n",
    "   exports zoo.animal.talks.content to zoo.staff;\n",
    "   exports zoo.animal.talks.media;\n",
    "   exports zoo.animal.talks.schedule;\n",
    "\n",
    "   // no longer needed requires zoo.animal.feeding;\n",
    "   // no longer needed requires zoo.animal.care;\n",
    "   requires transitive zoo.animal.care;\n",
    "}"
   ]
  },
  {
   "cell_type": "code",
   "execution_count": 107,
   "metadata": {},
   "outputs": [
    {
     "name": "stdout",
     "output_type": "stream",
     "text": [
      "added manifest\n",
      "added module-info: module-info.class\n",
      "adding: module-info.java(in = 293) (out= 122)(deflated 58%)\n",
      "adding: zoo/(in = 0) (out= 0)(stored 0%)\n",
      "adding: zoo/animal/(in = 0) (out= 0)(stored 0%)\n",
      "adding: zoo/animal/talks/(in = 0) (out= 0)(stored 0%)\n",
      "adding: zoo/animal/talks/content/(in = 0) (out= 0)(stored 0%)\n",
      "adding: zoo/animal/talks/content/ElephantScript.class(in = 227) (out= 186)(deflated 18%)\n",
      "adding: zoo/animal/talks/content/ElephantScript.java(in = 67) (out= 68)(deflated -1%)\n",
      "adding: zoo/animal/talks/content/SeaLionScript.class(in = 225) (out= 185)(deflated 17%)\n",
      "adding: zoo/animal/talks/content/SeaLionScript.java(in = 66) (out= 68)(deflated -3%)\n",
      "adding: zoo/animal/talks/media/(in = 0) (out= 0)(stored 0%)\n",
      "adding: zoo/animal/talks/media/Announcement.class(in = 464) (out= 318)(deflated 31%)\n",
      "adding: zoo/animal/talks/media/Announcement.java(in = 170) (out= 134)(deflated 21%)\n",
      "adding: zoo/animal/talks/media/Signage.class(in = 211) (out= 178)(deflated 15%)\n",
      "adding: zoo/animal/talks/media/Signage.java(in = 58) (out= 58)(deflated 0%)\n",
      "adding: zoo/animal/talks/schedule/(in = 0) (out= 0)(stored 0%)\n",
      "adding: zoo/animal/talks/schedule/Weekday.class(in = 214) (out= 181)(deflated 15%)\n",
      "adding: zoo/animal/talks/schedule/Weekday.java(in = 61) (out= 63)(deflated -3%)\n",
      "adding: zoo/animal/talks/schedule/Weekend.class(in = 214) (out= 181)(deflated 15%)\n",
      "adding: zoo/animal/talks/schedule/Weekend.java(in = 61) (out= 63)(deflated -3%)\n"
     ]
    }
   ],
   "source": [
    "!javac -p mods -d talks talks/zoo/animal/talks/content/*.java talks/zoo/animal/talks/media/*.java talks/zoo/animal/talks/schedule/*.java talks/module-info.java\n",
    "!jar -cvf mods/zoo.animal.talks.jar -C talks/ ."
   ]
  },
  {
   "cell_type": "markdown",
   "metadata": {},
   "source": [
    "Finally, in the **zoo.staff** module, we can **get rid** of two requires statements."
   ]
  },
  {
   "cell_type": "code",
   "execution_count": 110,
   "metadata": {},
   "outputs": [
    {
     "name": "stdout",
     "output_type": "stream",
     "text": [
      "Overwriting staff/module-info.java\n"
     ]
    }
   ],
   "source": [
    "%%writefile staff/module-info.java\n",
    "module zoo.staff {\n",
    "   // no longer needed requires zoo.animal.feeding;\n",
    "   // no longer needed requires zoo.animal.care;\n",
    "   requires zoo.animal.talks;\n",
    "}"
   ]
  },
  {
   "cell_type": "code",
   "execution_count": 111,
   "metadata": {},
   "outputs": [
    {
     "name": "stdout",
     "output_type": "stream",
     "text": [
      "added manifest\n",
      "added module-info: module-info.class\n",
      "adding: module-info.java(in = 152) (out= 84)(deflated 44%)\n",
      "adding: zoo/(in = 0) (out= 0)(stored 0%)\n",
      "adding: zoo/staff/(in = 0) (out= 0)(stored 0%)\n",
      "adding: zoo/staff/Jobs.class(in = 192) (out= 165)(deflated 14%)\n",
      "adding: zoo/staff/Jobs.java(in = 42) (out= 44)(deflated -4%)\n"
     ]
    }
   ],
   "source": [
    "#compile and build the staff module:\n",
    "!javac -p mods -d staff staff/zoo/staff/*.java staff/module-info.java\n",
    "!jar -cvf mods/zoo.staff.jar -C staff/ ."
   ]
  },
  {
   "cell_type": "markdown",
   "metadata": {},
   "source": [
    "The more modules you have, the more benefits of requires transitive compound. It is also more convenient for the caller. If you were trying to work with this zoo, you could just require zoo.staff and have the remaining dependencies automatically inferred."
   ]
  },
  {
   "cell_type": "markdown",
   "metadata": {},
   "source": [
    "<h1>Effects of requires transitive</h1>\n",
    "\n",
    "Given our newly updated module-info files and using Figure, **what is** the effect of **applying** the **transitive modifier** to the requires statement in our zoo.animal.care module? **Applying** the **transitive** modifiers has the following effect:\n",
    "\n",
    "* Module zoo.animal.talks **can optionally declare** it requires the **zoo.animal.feeding** module, but it is not required.\n",
    "* Module zoo.animal.care **cannot be compiled** or executed **without access** to the zoo.animal.feeding module.\n",
    "* Module zoo.animal.talks **cannot be compiled **or executed **without access** to the zoo.animal.feeding module.\n",
    "\n",
    "These **rules hold even** if the zoo.animal.care and zoo.animal.talks modules **do not explicitly reference any packages** in the zoo.animal.feeding module. On the other hand, **without the transitive modifier** in our module-info file of zoo.animal.care, **the other modules** would have to **explicitly use requires** in order to reference any packages in the zoo.animal.feeding module."
   ]
  },
  {
   "cell_type": "markdown",
   "metadata": {},
   "source": [
    "<h1>PROVIDES, USES, AND OPENS</h1>\n",
    "\n",
    "For the remaining three keywords (provides, uses, and opens), you only need to be aware they exist rather than understanding them in detail for the 1Z0-815 exam.\n",
    "\n",
    "The **provides** keyword specifies that a class provides an implementation of a service. The topic of services is covered on the 1Z0-816 exam, so for now, you can just think of a service as a fancy interface. To use it, you supply the API and class name that implements the API:\n",
    "\n",
    "```java\n",
    "provides zoo.staff.ZooApi with zoo.staff.ZooImpl\n",
    "```\n",
    "\n",
    "The **uses** keyword specifies that a module is relying on a service. To code it, you supply the API you want to call:\n",
    "\n",
    "```java\n",
    "uses zoo.staff.ZooApi\n",
    "```\n",
    "\n",
    "The **opens**\n",
    "\n",
    "Java allows callers to inspect and call code at runtime with a technique called reflection. This is a powerful approach that allows calling code that might not be available at compile time. It can even be used to subvert access control! **Don’t worry—you don’t need to know how to write code using reflection for the exam.**\n",
    "\n",
    "Since reflection can be dangerous, **the module system requires developers to explicitly allow reflection** in the module-info if they want calling modules to be allowed to use it. Here are two examples:\n",
    "\n",
    "```java\n",
    "opens zoo.animal.talks.schedule;\n",
    "opens zoo.animal.talks.media to zoo.staff;\n",
    "```\n",
    "\n",
    "The first example allows any module using this one to use reflection. The second example only gives that privilege to the zoo.staff package."
   ]
  },
  {
   "cell_type": "code",
   "execution_count": 112,
   "metadata": {},
   "outputs": [
    {
     "name": "stdout",
     "output_type": "stream",
     "text": [
      "zoo.animal.feeding file:///home/jovyan/mods/zoo.animal.feeding.jar\n",
      "exports zoo.animal.feeding\n",
      "requires java.base mandated\n",
      "zoo.animal.feeding file:///home/jovyan/mods/zoo.animal.feeding.jar\n",
      "exports zoo.animal.feeding\n",
      "requires java.base mandated\n"
     ]
    }
   ],
   "source": [
    "#Describing a Module\n",
    "!java -p mods -d zoo.animal.feeding\n",
    "#alternate\n",
    "!java -p mods --describe-module zoo.animal.feeding"
   ]
  },
  {
   "cell_type": "code",
   "execution_count": 114,
   "metadata": {},
   "outputs": [
    {
     "name": "stdout",
     "output_type": "stream",
     "text": [
      "Overwriting care/module-info.java\n"
     ]
    }
   ],
   "source": [
    "%%writefile care/module-info.java\n",
    "module zoo.animal.care {\n",
    "   exports zoo.animal.care.medical to zoo.staff;\n",
    "   requires transitive zoo.animal.feeding;\n",
    "}"
   ]
  },
  {
   "cell_type": "code",
   "execution_count": 115,
   "metadata": {},
   "outputs": [
    {
     "name": "stdout",
     "output_type": "stream",
     "text": [
      "added manifest\n",
      "added module-info: module-info.class\n",
      "adding: module-info.java(in = 119) (out= 85)(deflated 28%)\n",
      "adding: zoo/(in = 0) (out= 0)(stored 0%)\n",
      "adding: zoo/animal/(in = 0) (out= 0)(stored 0%)\n",
      "adding: zoo/animal/care/(in = 0) (out= 0)(stored 0%)\n",
      "adding: zoo/animal/care/details/(in = 0) (out= 0)(stored 0%)\n",
      "adding: zoo/animal/care/details/HippoBirthday.class(in = 267) (out= 213)(deflated 20%)\n",
      "adding: zoo/animal/care/details/HippoBirthday.java(in = 118) (out= 101)(deflated 14%)\n",
      "adding: zoo/animal/care/medical/(in = 0) (out= 0)(stored 0%)\n",
      "adding: zoo/animal/care/medical/Diet.class(in = 206) (out= 175)(deflated 15%)\n",
      "adding: zoo/animal/care/medical/Diet.java(in = 57) (out= 59)(deflated -3%)\n"
     ]
    }
   ],
   "source": [
    "#compiling care module\n",
    "!javac -p mods -d care care/zoo/animal/care/details/*.java care/zoo/animal/care/medical/*.java care/module-info.java\n",
    "!jar -cvf mods/zoo.animal.care.jar -C care/ ."
   ]
  },
  {
   "cell_type": "code",
   "execution_count": 116,
   "metadata": {},
   "outputs": [
    {
     "name": "stdout",
     "output_type": "stream",
     "text": [
      "zoo.animal.care file:///home/jovyan/mods/zoo.animal.care.jar\n",
      "requires java.base mandated\n",
      "requires zoo.animal.feeding transitive\n",
      "qualified exports zoo.animal.care.medical to zoo.staff\n",
      "contains zoo.animal.care.details\n"
     ]
    }
   ],
   "source": [
    "!java -p mods -d zoo.animal.care"
   ]
  },
  {
   "cell_type": "markdown",
   "metadata": {},
   "source": [
    "The first line of the output is the absolute path of the module file. \n",
    "\n",
    "The two requires lines should look familiar as well. \n",
    "The first is in the module-info, and the other is added to all modules. \n",
    "\n",
    "Next comes something new. The **qualified exports** is the full name of exporting to a **specific module**.\n",
    "\n",
    "Finally, the **contains** means that there is a package in the module that is not exported at all. \n",
    "\n",
    "This is true. Our module has two packages, and one is available only to code inside the module."
   ]
  },
  {
   "cell_type": "code",
   "execution_count": null,
   "metadata": {},
   "outputs": [],
   "source": [
    "#Listing Available Modules\n",
    "!java --list-modules"
   ]
  },
  {
   "cell_type": "code",
   "execution_count": 119,
   "metadata": {},
   "outputs": [
    {
     "name": "stdout",
     "output_type": "stream",
     "text": [
      "java.base@11.0.4\n",
      "java.compiler@11.0.4\n",
      "java.datatransfer@11.0.4\n",
      "java.desktop@11.0.4\n",
      "java.instrument@11.0.4\n",
      "java.logging@11.0.4\n",
      "java.management@11.0.4\n",
      "java.management.rmi@11.0.4\n",
      "java.naming@11.0.4\n",
      "java.net.http@11.0.4\n",
      "java.prefs@11.0.4\n",
      "java.rmi@11.0.4\n",
      "java.scripting@11.0.4\n",
      "java.se@11.0.4\n",
      "java.security.jgss@11.0.4\n",
      "java.security.sasl@11.0.4\n",
      "java.smartcardio@11.0.4\n",
      "java.sql@11.0.4\n",
      "java.sql.rowset@11.0.4\n",
      "java.transaction.xa@11.0.4\n",
      "java.xml@11.0.4\n",
      "java.xml.crypto@11.0.4\n",
      "jdk.accessibility@11.0.4\n",
      "jdk.aot@11.0.4\n",
      "jdk.attach@11.0.4\n",
      "jdk.charsets@11.0.4\n",
      "jdk.compiler@11.0.4\n",
      "jdk.crypto.cryptoki@11.0.4\n",
      "jdk.crypto.ec@11.0.4\n",
      "jdk.dynalink@11.0.4\n",
      "jdk.editpad@11.0.4\n",
      "jdk.hotspot.agent@11.0.4\n",
      "jdk.httpserver@11.0.4\n",
      "jdk.internal.ed@11.0.4\n",
      "jdk.internal.jvmstat@11.0.4\n",
      "jdk.internal.le@11.0.4\n",
      "jdk.internal.opt@11.0.4\n",
      "jdk.internal.vm.ci@11.0.4\n",
      "jdk.internal.vm.compiler@11.0.4\n",
      "jdk.internal.vm.compiler.management@11.0.4\n",
      "jdk.jartool@11.0.4\n",
      "jdk.javadoc@11.0.4\n",
      "jdk.jcmd@11.0.4\n",
      "jdk.jconsole@11.0.4\n",
      "jdk.jdeps@11.0.4\n",
      "jdk.jdi@11.0.4\n",
      "jdk.jdwp.agent@11.0.4\n",
      "jdk.jfr@11.0.4\n",
      "jdk.jlink@11.0.4\n",
      "jdk.jshell@11.0.4\n",
      "jdk.jsobject@11.0.4\n",
      "jdk.jstatd@11.0.4\n",
      "jdk.localedata@11.0.4\n",
      "jdk.management@11.0.4\n",
      "jdk.management.agent@11.0.4\n",
      "jdk.management.jfr@11.0.4\n",
      "jdk.naming.dns@11.0.4\n",
      "jdk.naming.rmi@11.0.4\n",
      "jdk.net@11.0.4\n",
      "jdk.pack@11.0.4\n",
      "jdk.rmic@11.0.4\n",
      "jdk.scripting.nashorn@11.0.4\n",
      "jdk.scripting.nashorn.shell@11.0.4\n",
      "jdk.sctp@11.0.4\n",
      "jdk.security.auth@11.0.4\n",
      "jdk.security.jgss@11.0.4\n",
      "jdk.unsupported@11.0.4\n",
      "jdk.unsupported.desktop@11.0.4\n",
      "jdk.xml.dom@11.0.4\n",
      "jdk.zipfs@11.0.4\n",
      "zoo.animal.care file:///home/jovyan/mods/zoo.animal.care.jar\n",
      "zoo.animal.feeding file:///home/jovyan/mods/zoo.animal.feeding.jar\n",
      "zoo.animal.talks file:///home/jovyan/mods/zoo.animal.talks.jar\n",
      "zoo.staff file:///home/jovyan/mods/zoo.staff.jar\n"
     ]
    }
   ],
   "source": [
    "#Let’s try again with the directory containing our zoo modules.\n",
    "!java -p mods --list-modules"
   ]
  },
  {
   "cell_type": "code",
   "execution_count": 120,
   "metadata": {},
   "outputs": [
    {
     "name": "stdout",
     "output_type": "stream",
     "text": [
      "root zoo.animal.feeding file:///home/jovyan/feeding/\n",
      "java.base binds jdk.zipfs jrt:/jdk.zipfs\n",
      "java.base binds jdk.localedata jrt:/jdk.localedata\n",
      "java.base binds jdk.crypto.cryptoki jrt:/jdk.crypto.cryptoki\n",
      "java.base binds java.xml.crypto jrt:/java.xml.crypto\n",
      "java.base binds java.naming jrt:/java.naming\n",
      "java.base binds java.security.sasl jrt:/java.security.sasl\n",
      "java.base binds jdk.crypto.ec jrt:/jdk.crypto.ec\n",
      "java.base binds java.security.jgss jrt:/java.security.jgss\n",
      "java.base binds java.smartcardio jrt:/java.smartcardio\n",
      "java.base binds jdk.security.jgss jrt:/jdk.security.jgss\n",
      "java.base binds jdk.jdeps jrt:/jdk.jdeps\n",
      "java.base binds jdk.compiler jrt:/jdk.compiler\n",
      "java.base binds jdk.javadoc jrt:/jdk.javadoc\n",
      "java.base binds jdk.jartool jrt:/jdk.jartool\n",
      "java.base binds jdk.jlink jrt:/jdk.jlink\n",
      "java.base binds java.desktop jrt:/java.desktop\n",
      "java.base binds jdk.security.auth jrt:/jdk.security.auth\n",
      "java.base binds java.management jrt:/java.management\n",
      "java.base binds java.logging jrt:/java.logging\n",
      "java.base binds jdk.charsets jrt:/jdk.charsets\n",
      "jdk.security.auth requires java.security.jgss jrt:/java.security.jgss\n",
      "jdk.security.auth requires java.naming jrt:/java.naming\n",
      "java.desktop requires java.xml jrt:/java.xml\n",
      "java.desktop requires java.prefs jrt:/java.prefs\n",
      "java.desktop requires java.datatransfer jrt:/java.datatransfer\n",
      "jdk.jlink requires jdk.jdeps jrt:/jdk.jdeps\n",
      "jdk.jlink requires jdk.internal.opt jrt:/jdk.internal.opt\n",
      "jdk.javadoc requires java.compiler jrt:/java.compiler\n",
      "jdk.javadoc requires jdk.compiler jrt:/jdk.compiler\n",
      "jdk.javadoc requires java.xml jrt:/java.xml\n",
      "jdk.compiler requires java.compiler jrt:/java.compiler\n",
      "jdk.jdeps requires java.compiler jrt:/java.compiler\n",
      "jdk.jdeps requires jdk.compiler jrt:/jdk.compiler\n",
      "jdk.security.jgss requires java.security.sasl jrt:/java.security.sasl\n",
      "jdk.security.jgss requires java.security.jgss jrt:/java.security.jgss\n",
      "jdk.security.jgss requires java.logging jrt:/java.logging\n",
      "java.security.jgss requires java.naming jrt:/java.naming\n",
      "java.security.sasl requires java.logging jrt:/java.logging\n",
      "java.naming requires java.security.sasl jrt:/java.security.sasl\n",
      "java.xml.crypto requires java.logging jrt:/java.logging\n",
      "java.xml.crypto requires java.xml jrt:/java.xml\n",
      "jdk.crypto.cryptoki requires jdk.crypto.ec jrt:/jdk.crypto.ec\n",
      "java.prefs requires java.xml jrt:/java.xml\n",
      "java.datatransfer binds java.desktop jrt:/java.desktop\n",
      "java.compiler binds jdk.compiler jrt:/jdk.compiler\n",
      "java.compiler binds jdk.javadoc jrt:/jdk.javadoc\n",
      "java.naming binds jdk.naming.dns jrt:/jdk.naming.dns\n",
      "java.naming binds jdk.naming.rmi jrt:/jdk.naming.rmi\n",
      "java.management binds java.management.rmi jrt:/java.management.rmi\n",
      "java.management binds jdk.management.jfr jrt:/jdk.management.jfr\n",
      "java.management binds jdk.management jrt:/jdk.management\n",
      "java.desktop binds jdk.unsupported.desktop jrt:/jdk.unsupported.desktop\n",
      "jdk.unsupported.desktop requires java.desktop jrt:/java.desktop\n",
      "jdk.management requires java.management jrt:/java.management\n",
      "jdk.management.jfr requires jdk.jfr jrt:/jdk.jfr\n",
      "jdk.management.jfr requires java.management jrt:/java.management\n",
      "jdk.management.jfr requires jdk.management jrt:/jdk.management\n",
      "java.management.rmi requires java.naming jrt:/java.naming\n",
      "java.management.rmi requires java.rmi jrt:/java.rmi\n",
      "java.management.rmi requires java.management jrt:/java.management\n",
      "jdk.naming.rmi requires java.naming jrt:/java.naming\n",
      "jdk.naming.rmi requires java.rmi jrt:/java.rmi\n",
      "jdk.naming.dns requires java.naming jrt:/java.naming\n",
      "java.rmi requires java.logging jrt:/java.logging\n",
      "All fed!\n"
     ]
    }
   ],
   "source": [
    "#Showing Module Resolution\n",
    "!java --show-module-resolution -p feeding -m zoo.animal.feeding/zoo.animal.feeding.Task"
   ]
  },
  {
   "cell_type": "code",
   "execution_count": 121,
   "metadata": {},
   "outputs": [
    {
     "name": "stdout",
     "output_type": "stream",
     "text": [
      "zoo.animal.feeding jar:file:///home/jovyan/mods/zoo.animal.feeding.jar/!module-info.class\n",
      "exports zoo.animal.feeding\n",
      "requires java.base mandated\n",
      "\n",
      "zoo.animal.feeding jar:file:///home/jovyan/mods/zoo.animal.feeding.jar/!module-info.class\n",
      "exports zoo.animal.feeding\n",
      "requires java.base mandated\n",
      "\n"
     ]
    }
   ],
   "source": [
    "#Like the java command, the jar command can describe a module. Both of these commands are equivalent:\n",
    "!jar -f mods/zoo.animal.feeding.jar -d\n",
    "!jar --file mods/zoo.animal.feeding.jar --describe-module"
   ]
  },
  {
   "cell_type": "code",
   "execution_count": 123,
   "metadata": {},
   "outputs": [
    {
     "name": "stdout",
     "output_type": "stream",
     "text": [
      "zoo.animal.feeding -> java.base\n",
      "----\n",
      "zoo.animal.feeding\n",
      " [file:///home/jovyan/mods/zoo.animal.feeding.jar]\n",
      "   requires mandated java.base (@11.0.4)\n",
      "zoo.animal.feeding -> java.base\n",
      "   zoo.animal.feeding                                 -> java.io                                            java.base\n",
      "   zoo.animal.feeding                                 -> java.lang                                          java.base\n"
     ]
    }
   ],
   "source": [
    "#The jdeps command gives you information about dependencies within a module\n",
    "!jdeps -s mods/zoo.animal.feeding.jar\n",
    "!echo \"----\"\n",
    "!jdeps mods/zoo.animal.feeding.jar"
   ]
  },
  {
   "cell_type": "code",
   "execution_count": null,
   "metadata": {},
   "outputs": [],
   "source": []
  }
 ],
 "metadata": {
  "kernelspec": {
   "display_name": "Python 3",
   "language": "python",
   "name": "python3"
  },
  "language_info": {
   "codemirror_mode": {
    "name": "ipython",
    "version": 3
   },
   "file_extension": ".py",
   "mimetype": "text/x-python",
   "name": "python",
   "nbconvert_exporter": "python",
   "pygments_lexer": "ipython3",
   "version": "3.7.3"
  }
 },
 "nbformat": 4,
 "nbformat_minor": 2
}
